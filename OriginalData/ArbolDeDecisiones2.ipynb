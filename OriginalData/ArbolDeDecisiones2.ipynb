{
 "cells": [
  {
   "cell_type": "code",
   "execution_count": null,
   "metadata": {},
   "outputs": [],
   "source": [
    "import numpy as np\n",
    "import pandas as pd\n",
    "import matplotlib.pyplot as plt\n",
    "from sklearn.model_selection import train_test_split\n",
    "from sklearn.tree import DecisionTreeClassifier\n",
    "from sklearn.metrics import confusion_matrix\n",
    "from sklearn.metrics import ConfusionMatrixDisplay\n",
    "from sklearn.metrics import classification_report\n",
    "from sklearn.model_selection import GridSearchCV"
   ]
  },
  {
   "cell_type": "code",
   "execution_count": null,
   "metadata": {},
   "outputs": [],
   "source": [
    "dataHosp = pd.read_csv('../data/Hospitales_Normalizados.csv', index_col=0)"
   ]
  },
  {
   "cell_type": "code",
   "execution_count": null,
   "metadata": {},
   "outputs": [],
   "source": [
    "X = dataHosp.drop(['HOSPITALIZACION'], axis = 1)\n",
    "y = dataHosp['HOSPITALIZACION']"
   ]
  },
  {
   "cell_type": "code",
   "execution_count": null,
   "metadata": {},
   "outputs": [],
   "source": [
    "arbol = DecisionTreeClassifier() "
   ]
  },
  {
   "cell_type": "code",
   "execution_count": null,
   "metadata": {},
   "outputs": [],
   "source": [
    "sample_weights = [1] * 560 + [560/24] * 24"
   ]
  },
  {
   "cell_type": "code",
   "execution_count": null,
   "metadata": {},
   "outputs": [],
   "source": [
    "rango_hiperparametros = {\"max_depth\":[1,2,3,4,5,6,7],\n",
    "                         \"criterion\":[\"gini\", \"entropy\"],\n",
    "                         \"class_weight\": [{0: 1, 1: 534/23}]}"
   ]
  },
  {
   "cell_type": "code",
   "execution_count": null,
   "metadata": {},
   "outputs": [],
   "source": [
    "modelo =  GridSearchCV(arbol, param_grid = rango_hiperparametros,cv = 5, verbose = True)"
   ]
  },
  {
   "cell_type": "code",
   "execution_count": null,
   "metadata": {},
   "outputs": [],
   "source": [
    "modelo.fit(X,y)"
   ]
  },
  {
   "cell_type": "code",
   "execution_count": null,
   "metadata": {},
   "outputs": [],
   "source": [
    "modelo.best_params_"
   ]
  },
  {
   "cell_type": "code",
   "execution_count": null,
   "metadata": {},
   "outputs": [],
   "source": [
    "from sklearn.model_selection import RandomizedSearchCV"
   ]
  },
  {
   "cell_type": "code",
   "execution_count": null,
   "metadata": {},
   "outputs": [],
   "source": [
    "X_train, X_test, y_train, y_test = train_test_split(X, y, test_size = 0.25, random_state=0)"
   ]
  },
  {
   "cell_type": "code",
   "execution_count": null,
   "metadata": {},
   "outputs": [],
   "source": [
    "clf = DecisionTreeClassifier(max_depth = 6, criterion='gini', class_weight={0: 1, 1: 534/23}) "
   ]
  },
  {
   "cell_type": "code",
   "execution_count": null,
   "metadata": {},
   "outputs": [],
   "source": [
    "clf.fit(X_train,y_train)"
   ]
  },
  {
   "cell_type": "code",
   "execution_count": null,
   "metadata": {},
   "outputs": [],
   "source": [
    "y_train_pred = clf.predict(X_train)\n",
    "\n",
    "y_test_pred = clf.predict(X_test)"
   ]
  },
  {
   "cell_type": "code",
   "execution_count": null,
   "metadata": {},
   "outputs": [],
   "source": [
    "#Para crear la matriz de confusión\n",
    "\n",
    "\n",
    "matrix = confusion_matrix(y_train, y_train_pred)\n",
    "matrix_2 = confusion_matrix(y_test, y_test_pred)\n",
    "\n",
    "#Para visualizar\n",
    "\n",
    "\n",
    "cm_display = ConfusionMatrixDisplay(matrix)\n",
    "cm_display_2 = ConfusionMatrixDisplay(matrix_2)\n",
    "\n",
    "#para obtener el valor de precisión, recall, F1-score y soporte para cada clase en un problema de clasificación\n"
   ]
  },
  {
   "cell_type": "code",
   "execution_count": null,
   "metadata": {},
   "outputs": [],
   "source": [
    "cm_display.plot()\n",
    "plt.show()\n",
    "print(f'''-----------------------------------------------------------------------\n",
    "      {classification_report(y_train, y_train_pred)}''')"
   ]
  },
  {
   "cell_type": "code",
   "execution_count": null,
   "metadata": {},
   "outputs": [],
   "source": [
    "cm_display_2.plot()\n",
    "plt.show()\n",
    "print(f'''-----------------------------------------------------------------------\n",
    "      {classification_report(y_test, y_test_pred)}''')"
   ]
  },
  {
   "cell_type": "code",
   "execution_count": null,
   "metadata": {},
   "outputs": [],
   "source": [
    "train_prec = []\n",
    "test_prec = []\n",
    "max_pairs = list(range(1, 10))\n",
    "\n",
    "for n in max_pairs:\n",
    "    clfx = DecisionTreeClassifier(max_depth=n, criterion='gini', class_weight={0: 1, 1: 534/23})\n",
    "    clfx.fit(X_train, y_train)\n",
    "    train_prec.append(clfx.score(X_train, y_train))\n",
    "    test_prec.append(clfx.score(X_test, y_test))\n",
    "\n",
    "plt.figure(figsize=(12,7))\n",
    "plt.plot(max_pairs, train_prec, color='r', label='Set de entrenamiento')\n",
    "plt.plot(max_pairs, test_prec, color='b', label='Set de testeo')\n",
    "plt.title('Gráfico de ajuste de k-pairs', fontsize = 15)\n",
    "plt.legend()\n",
    "plt.ylabel('Exactitud')\n",
    "plt.xlabel('pairs')\n",
    "plt.show()    "
   ]
  }
 ],
 "metadata": {
  "kernelspec": {
   "display_name": "Python 3",
   "language": "python",
   "name": "python3"
  },
  "language_info": {
   "codemirror_mode": {
    "name": "ipython",
    "version": 3
   },
   "file_extension": ".py",
   "mimetype": "text/x-python",
   "name": "python",
   "nbconvert_exporter": "python",
   "pygments_lexer": "ipython3",
   "version": "3.11.0"
  },
  "orig_nbformat": 4
 },
 "nbformat": 4,
 "nbformat_minor": 2
}
